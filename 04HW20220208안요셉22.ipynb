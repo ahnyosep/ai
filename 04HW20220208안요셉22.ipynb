{
  "nbformat": 4,
  "nbformat_minor": 0,
  "metadata": {
    "colab": {
      "name": "04HW20220208안요셉22.ipynb",
      "provenance": [],
      "authorship_tag": "ABX9TyPobJr2PqrlmoyvAhwtirrZ",
      "include_colab_link": true
    },
    "kernelspec": {
      "name": "python3",
      "display_name": "Python 3"
    },
    "language_info": {
      "name": "python"
    }
  },
  "cells": [
    {
      "cell_type": "markdown",
      "metadata": {
        "id": "view-in-github",
        "colab_type": "text"
      },
      "source": [
        "<a href=\"https://colab.research.google.com/github/ahnyosep/ai/blob/main/04HW20220208%EC%95%88%EC%9A%94%EC%85%8922.ipynb\" target=\"_parent\"><img src=\"https://colab.research.google.com/assets/colab-badge.svg\" alt=\"Open In Colab\"/></a>"
      ]
    },
    {
      "cell_type": "code",
      "execution_count": 1,
      "metadata": {
        "id": "BPuTwRRCi94V",
        "colab": {
          "base_uri": "https://localhost:8080/"
        },
        "outputId": "e3b378d9-9ecd-402b-e828-197010b118b1"
      },
      "outputs": [
        {
          "output_type": "stream",
          "name": "stdout",
          "text": [
            "안녕\n",
            "Hi\n"
          ]
        }
      ],
      "source": [
        "# 211\n",
        "def 함수(문자열) :\n",
        "    print(문자열)\n",
        "\n",
        "함수(\"안녕\")\n",
        "함수(\"Hi\")"
      ]
    },
    {
      "cell_type": "code",
      "source": [
        "# 212\n",
        "def 함수(a, b) :\n",
        "    print(a + b)\n",
        "\n",
        "함수(3, 4)\n",
        "함수(7, 8)"
      ],
      "metadata": {
        "colab": {
          "base_uri": "https://localhost:8080/"
        },
        "id": "InwjMzBCk9w0",
        "outputId": "9deb746f-414f-4028-bbef-be36735d4a90"
      },
      "execution_count": 2,
      "outputs": [
        {
          "output_type": "stream",
          "name": "stdout",
          "text": [
            "7\n",
            "15\n"
          ]
        }
      ]
    },
    {
      "cell_type": "code",
      "source": [
        "# 213\n",
        "# 함수에 정의와 다르게 함수를 호출하고 있다. 함수를 호출할 때 하나의 파라미터를 입력해야한다."
      ],
      "metadata": {
        "id": "-ofQLnh4k96y"
      },
      "execution_count": 27,
      "outputs": []
    },
    {
      "cell_type": "code",
      "source": [
        "# 214\n",
        "# 함수를 호출 할때 문자열과 숫자를 입력해서 문자열과 숫자는 더할 수 없다는 에러가 발생한다."
      ],
      "metadata": {
        "id": "r_G3_3pPk-Rh"
      },
      "execution_count": 26,
      "outputs": []
    },
    {
      "cell_type": "code",
      "source": [
        "# 215\n",
        "def print_with_smile (string) :\n",
        "    print (string + \":D\")"
      ],
      "metadata": {
        "id": "FCcnChp1k-zS"
      },
      "execution_count": 10,
      "outputs": []
    },
    {
      "cell_type": "code",
      "source": [
        "# 216\n",
        "print_with_smile(\"안녕하세요\")"
      ],
      "metadata": {
        "colab": {
          "base_uri": "https://localhost:8080/"
        },
        "id": "YHp5OxS4k-_C",
        "outputId": "6424b244-77ab-4d9b-f080-3092d390dcae"
      },
      "execution_count": 25,
      "outputs": [
        {
          "output_type": "stream",
          "name": "stdout",
          "text": [
            "안녕하세요:D\n"
          ]
        }
      ]
    },
    {
      "cell_type": "code",
      "source": [
        "# 217\n",
        "def print_upper_price(price) :\n",
        "    print(price * 1.3)"
      ],
      "metadata": {
        "id": "3UV-03jBk_I8"
      },
      "execution_count": 24,
      "outputs": []
    },
    {
      "cell_type": "code",
      "source": [
        "# 218\n",
        "def print_sum (a, b) :\n",
        "    print (a + b)"
      ],
      "metadata": {
        "id": "WaTJsSo-k_Rh"
      },
      "execution_count": 23,
      "outputs": []
    },
    {
      "cell_type": "code",
      "source": [
        "# 219\n",
        "def print_arithmetic_operation(a, b):\n",
        "    print(a, \"+\", b, \"=\", a + b)\n",
        "    print(a, \"-\", b, \"=\", a - b)\n",
        "    print(a, \"*\", b, \"=\", a * b)\n",
        "    print(a, \"/\", b, \"=\", a / b)"
      ],
      "metadata": {
        "id": "YPwsY39rk_aK"
      },
      "execution_count": 22,
      "outputs": []
    },
    {
      "cell_type": "code",
      "source": [
        "# 220\n",
        "def print_max(a, b, c) :\n",
        "    max_val = 0\n",
        "    if a > max_val :\n",
        "        max_val = a\n",
        "    if b > max_val :\n",
        "        max_val = b\n",
        "    if c > max_val :\n",
        "        max_val = c\n",
        "    print(max_val)"
      ],
      "metadata": {
        "id": "T36zOhRmk_kr"
      },
      "execution_count": 21,
      "outputs": []
    },
    {
      "cell_type": "code",
      "source": [
        "# 221\n",
        "def print_reverse(string) :\n",
        "    print(string[::-1])"
      ],
      "metadata": {
        "id": "uvI5bbpImBHA"
      },
      "execution_count": 20,
      "outputs": []
    },
    {
      "cell_type": "code",
      "source": [
        "# 222\n",
        "def print_score(score_list) :\n",
        "    print(sum(score_list)/len(score_list))"
      ],
      "metadata": {
        "id": "QUpp5nrbmBR7"
      },
      "execution_count": 19,
      "outputs": []
    },
    {
      "cell_type": "code",
      "source": [
        "# 223\n",
        "def print_even (my_list) :\n",
        "    for v in my_list :\n",
        "        if v % 2 == 0 :\n",
        "            print(v)"
      ],
      "metadata": {
        "id": "eeJxWjGhmBo3"
      },
      "execution_count": 18,
      "outputs": []
    },
    {
      "cell_type": "code",
      "source": [
        "# 224\n",
        "def print_keys(dic):\n",
        "    for keys in dic.keys():\n",
        "        print(keys)"
      ],
      "metadata": {
        "id": "PlZC9gqFmB_c"
      },
      "execution_count": 17,
      "outputs": []
    },
    {
      "cell_type": "code",
      "source": [
        "# 225\n",
        "def print_value_by_key (my_dict, key) :\n",
        "    print(my_dict[key])"
      ],
      "metadata": {
        "id": "Ns0fP0ThmCLz"
      },
      "execution_count": 16,
      "outputs": []
    },
    {
      "cell_type": "code",
      "source": [
        "# 226\n",
        "def print_5xn(line):\n",
        "    chunk_num = int(len(line) / 5)\n",
        "    for x in range(chunk_num + 1) :\n",
        "        print(line[x * 5: x * 5 + 5])"
      ],
      "metadata": {
        "id": "uuCRRKMAmCXu"
      },
      "execution_count": 15,
      "outputs": []
    },
    {
      "cell_type": "code",
      "source": [
        "# 227\n",
        "def print_mxn(line, num):\n",
        "    chunk_num = int(len(line) / num)\n",
        "    for x in range(chunk_num + 1) :\n",
        "        print(line[x * num: x * num + num])"
      ],
      "metadata": {
        "id": "-zhKQY-tmCjU"
      },
      "execution_count": 14,
      "outputs": []
    },
    {
      "cell_type": "code",
      "source": [
        "# 228\n",
        "def calc_monthly_salary(annual_pay) :\n",
        "    monthly_pay = int(annual_pay / 12)\n",
        "    return monthly_pay"
      ],
      "metadata": {
        "id": "P9-Bp8MPmCuz"
      },
      "execution_count": 13,
      "outputs": []
    },
    {
      "cell_type": "code",
      "source": [
        "# 229\n",
        "def my_print (a, b) :\n",
        "    print(\"왼쪽:\", a)\n",
        "    print(\"오른쪽:\", b)\n",
        "\n",
        "my_print(a=100, b=200)"
      ],
      "metadata": {
        "colab": {
          "base_uri": "https://localhost:8080/"
        },
        "id": "uPRuII90mC7F",
        "outputId": "d91f4d3b-8a2e-4c3e-e375-3738b87471af"
      },
      "execution_count": 11,
      "outputs": [
        {
          "output_type": "stream",
          "name": "stdout",
          "text": [
            "왼쪽: 100\n",
            "오른쪽: 200\n"
          ]
        }
      ]
    },
    {
      "cell_type": "code",
      "source": [
        "# 230\n",
        "def my_print (a, b) :\n",
        "    print(\"왼쪽:\", a)\n",
        "    print(\"오른쪽:\", b)\n",
        "\n",
        "my_print(b=100, a=200)"
      ],
      "metadata": {
        "colab": {
          "base_uri": "https://localhost:8080/"
        },
        "id": "IMusoUsAmDTy",
        "outputId": "5b6c8c7f-7c3b-4d80-ef89-a976ebfee9b8"
      },
      "execution_count": 12,
      "outputs": [
        {
          "output_type": "stream",
          "name": "stdout",
          "text": [
            "왼쪽: 200\n",
            "오른쪽: 100\n"
          ]
        }
      ]
    }
  ]
}
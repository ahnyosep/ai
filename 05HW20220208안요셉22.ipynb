{
  "nbformat": 4,
  "nbformat_minor": 0,
  "metadata": {
    "colab": {
      "name": "05HW20220208안요셉22.ipynb",
      "provenance": [],
      "authorship_tag": "ABX9TyP3yjp7LlKK+PvN/WvTf77j",
      "include_colab_link": true
    },
    "kernelspec": {
      "name": "python3",
      "display_name": "Python 3"
    },
    "language_info": {
      "name": "python"
    }
  },
  "cells": [
    {
      "cell_type": "markdown",
      "metadata": {
        "id": "view-in-github",
        "colab_type": "text"
      },
      "source": [
        "<a href=\"https://colab.research.google.com/github/ahnyosep/ai/blob/main/05HW20220208%EC%95%88%EC%9A%94%EC%85%8922.ipynb\" target=\"_parent\"><img src=\"https://colab.research.google.com/assets/colab-badge.svg\" alt=\"Open In Colab\"/></a>"
      ]
    },
    {
      "cell_type": "code",
      "execution_count": 38,
      "metadata": {
        "colab": {
          "base_uri": "https://localhost:8080/",
          "height": 211
        },
        "id": "4BnI_Mxc6yVG",
        "outputId": "6e8cbd90-8e62-4912-af10-9e1beee8b8af"
      },
      "outputs": [
        {
          "output_type": "error",
          "ename": "NameError",
          "evalue": "ignored",
          "traceback": [
            "\u001b[0;31m---------------------------------------------------------------------------\u001b[0m",
            "\u001b[0;31mNameError\u001b[0m                                 Traceback (most recent call last)",
            "\u001b[0;32m<ipython-input-38-e6eb7841fa21>\u001b[0m in \u001b[0;36m<module>\u001b[0;34m()\u001b[0m\n\u001b[1;32m      4\u001b[0m \u001b[0;34m\u001b[0m\u001b[0m\n\u001b[1;32m      5\u001b[0m \u001b[0mn_plus_1\u001b[0m\u001b[0;34m(\u001b[0m\u001b[0;36m3\u001b[0m\u001b[0;34m)\u001b[0m\u001b[0;34m\u001b[0m\u001b[0;34m\u001b[0m\u001b[0m\n\u001b[0;32m----> 6\u001b[0;31m \u001b[0mprint\u001b[0m \u001b[0;34m(\u001b[0m\u001b[0mresult\u001b[0m\u001b[0;34m)\u001b[0m\u001b[0;34m\u001b[0m\u001b[0;34m\u001b[0m\u001b[0m\n\u001b[0m",
            "\u001b[0;31mNameError\u001b[0m: name 'result' is not defined"
          ]
        }
      ],
      "source": [
        "# 231\n",
        "def n_plus_1 (n) :\n",
        "    result = n + 1\n",
        "\n",
        "n_plus_1(3)\n",
        "print (result)"
      ]
    },
    {
      "cell_type": "code",
      "source": [
        "# 232\n",
        "def make_url(string) :\n",
        "    return \"www.\" + string + \".com\""
      ],
      "metadata": {
        "id": "exfwR4TzZ7TS"
      },
      "execution_count": 43,
      "outputs": []
    },
    {
      "cell_type": "code",
      "source": [
        "# 233\n",
        "def make_list (string) :\n",
        "    return list(string)"
      ],
      "metadata": {
        "id": "bVJAprZQZpIc"
      },
      "execution_count": 46,
      "outputs": []
    },
    {
      "cell_type": "code",
      "source": [
        "# 234\n",
        "def pickup_even(items):\n",
        "    result = []\n",
        "    for item in items:\n",
        "        if item % 2 == 0:\n",
        "            result.append(item)\n",
        "    return result"
      ],
      "metadata": {
        "id": "g6qcte9DZqcO"
      },
      "execution_count": 48,
      "outputs": []
    },
    {
      "cell_type": "code",
      "source": [
        "# 235\n",
        "def convert_int (string) :\n",
        "    return int(string.replace(',', ''))"
      ],
      "metadata": {
        "id": "LdgUtTWDZtiM"
      },
      "execution_count": 52,
      "outputs": []
    },
    {
      "cell_type": "code",
      "source": [
        "# 236\n",
        "def 함수(num) :\n",
        "    return num + 4\n",
        "\n",
        "a = 함수(10)\n",
        "b = 함수(a)\n",
        "c = 함수(b)\n",
        "print(c)"
      ],
      "metadata": {
        "colab": {
          "base_uri": "https://localhost:8080/"
        },
        "id": "xD6Ok-qRZttt",
        "outputId": "d7848f7e-5dab-428a-f55b-76f8fbe8336a"
      },
      "execution_count": 53,
      "outputs": [
        {
          "output_type": "stream",
          "name": "stdout",
          "text": [
            "22\n"
          ]
        }
      ]
    },
    {
      "cell_type": "code",
      "source": [
        "# 237\n",
        "def 함수(num) :\n",
        "    return num + 4\n",
        "\n",
        "c = 함수(함수(함수(10)))\n",
        "print(c)"
      ],
      "metadata": {
        "id": "6FCrmAjUZt3R",
        "colab": {
          "base_uri": "https://localhost:8080/"
        },
        "outputId": "f8382866-8a16-4983-a58d-72a7d5bd64ea"
      },
      "execution_count": 54,
      "outputs": [
        {
          "output_type": "stream",
          "name": "stdout",
          "text": [
            "22\n"
          ]
        }
      ]
    },
    {
      "cell_type": "code",
      "source": [
        "# 238\n",
        "def 함수1(num) :\n",
        "    return num + 4\n",
        "\n",
        "def 함수2(num) :\n",
        "    return num * 10\n",
        "\n",
        "a = 함수1(10)\n",
        "c = 함수2(a)\n",
        "print(c)"
      ],
      "metadata": {
        "id": "YexYw2HcZuAK",
        "colab": {
          "base_uri": "https://localhost:8080/"
        },
        "outputId": "9ce075cc-183c-414d-8a98-6d677a8326d3"
      },
      "execution_count": 55,
      "outputs": [
        {
          "output_type": "stream",
          "name": "stdout",
          "text": [
            "140\n"
          ]
        }
      ]
    },
    {
      "cell_type": "code",
      "source": [
        "# 239\n",
        "def 함수1(num) :\n",
        "    return num + 4\n",
        "\n",
        "def 함수2(num) :\n",
        "    num = num + 2\n",
        "    return 함수1(num)\n",
        "\n",
        "c = 함수2(10)\n",
        "print(c)"
      ],
      "metadata": {
        "id": "aHg-tfi8ZuKO",
        "colab": {
          "base_uri": "https://localhost:8080/"
        },
        "outputId": "10ede987-3ea2-4133-b14a-af768209d1ab"
      },
      "execution_count": 56,
      "outputs": [
        {
          "output_type": "stream",
          "name": "stdout",
          "text": [
            "16\n"
          ]
        }
      ]
    },
    {
      "cell_type": "code",
      "source": [
        "# 240\n",
        "def 함수0(num) :\n",
        "    return num * 2\n",
        "\n",
        "def 함수1(num) :\n",
        "    return 함수0(num + 2)\n",
        "\n",
        "def 함수2(num) :\n",
        "    num = num + 10\n",
        "    return 함수1(num)\n",
        "\n",
        "c = 함수2(2)\n",
        "print(c)"
      ],
      "metadata": {
        "id": "9yx1hZCSZuUG",
        "colab": {
          "base_uri": "https://localhost:8080/"
        },
        "outputId": "d197588c-7748-4ab1-e697-7c5f52b34648"
      },
      "execution_count": 57,
      "outputs": [
        {
          "output_type": "stream",
          "name": "stdout",
          "text": [
            "28\n"
          ]
        }
      ]
    },
    {
      "cell_type": "code",
      "source": [
        "# 291\n",
        "# f = open(\"C:/Users/hyunh/Desktop/매수종목1.txt\", mode=\"wt\", encoding=\"utf-8\")\n",
        "# f.write(\"005930\\n\")\n",
        "# f.write(\"005380\\n\")\n",
        "# f.write(\"035420\")\n",
        "# f.close()"
      ],
      "metadata": {
        "id": "IT3_S_iPZusC"
      },
      "execution_count": 73,
      "outputs": []
    },
    {
      "cell_type": "code",
      "source": [
        "# 292\n",
        "# f = open(\"C:/Users/hyunh/Desktop/매수종목2.txt\", mode=\"wt\", encoding=\"utf-8\")\n",
        "# f.write(\"005930 삼성전자\\n\")\n",
        "# f.write(\"005380 현대차\\n\")\n",
        "# f.write(\"035420 NAVER\\n\")\n",
        "# f.close()"
      ],
      "metadata": {
        "id": "tjcN8caacVax"
      },
      "execution_count": 72,
      "outputs": []
    },
    {
      "cell_type": "code",
      "source": [
        "# 293\n",
        "# import csv\n",
        "\n",
        "# f = open(\"C:/Users/hyunh/Desktop/매수종목.csv\", mode=\"wt\", encoding=\"cp949\", newline='')\n",
        "# writer = csv.writer(f)\n",
        "# writer.writerow([\"종목명\", \"종목코드\", \"PER\"])\n",
        "# writer.writerow([\"삼성전자\", \"005930\", 15.59])\n",
        "# writer.writerow([\"NAVER\", \"035420\", 55.82])\n",
        "# f.close()"
      ],
      "metadata": {
        "id": "hMF0GXQPcVod"
      },
      "execution_count": 71,
      "outputs": []
    },
    {
      "cell_type": "code",
      "source": [
        "# 294\n",
        "# f = open(\"C:/Users/hyunh/Desktop/매수종목1.txt\", encoding=\"utf-8\")\n",
        "# lines = f.readlines()   # python list\n",
        "\n",
        "# codes = []\n",
        "# for line in lines:\n",
        "#     code = line.strip()  #'\\n'\n",
        "#     codes.append(code)\n",
        "\n",
        "# print(codes)\n",
        "\n",
        "# f.close()"
      ],
      "metadata": {
        "id": "-LgkpeGscVyd"
      },
      "execution_count": 70,
      "outputs": []
    },
    {
      "cell_type": "code",
      "source": [
        "# 295\n",
        "# f = open(\"C:/Users/hyunh/Desktop/매수종목2.txt\", encoding=\"utf-8\")\n",
        "# lines = f.readlines()\n",
        "\n",
        "# data = {}\n",
        "# for line in lines:\n",
        "#     line = line.strip()     # '\\n' 제거\n",
        "#     k, v = line.split()\n",
        "#     #print(k, v)\n",
        "#     data[k] = v\n",
        "\n",
        "# print(data)\n",
        "# f.close()\n"
      ],
      "metadata": {
        "id": "KOki6B5kcV6t"
      },
      "execution_count": 69,
      "outputs": []
    },
    {
      "cell_type": "code",
      "source": [
        "# 296\n",
        "per = [\"10.31\", \"\", \"8.00\"]\n",
        "\n",
        "for i in per:\n",
        "    try:\n",
        "        print(float(i))\n",
        "    except:\n",
        "        print(0)\n"
      ],
      "metadata": {
        "id": "SmL9qHRLcWjw",
        "colab": {
          "base_uri": "https://localhost:8080/"
        },
        "outputId": "0387c60b-07fe-463f-fa6b-38e6b934d2d3"
      },
      "execution_count": 59,
      "outputs": [
        {
          "output_type": "stream",
          "name": "stdout",
          "text": [
            "10.31\n",
            "0\n",
            "8.0\n"
          ]
        }
      ]
    },
    {
      "cell_type": "code",
      "source": [
        "# 297\n",
        "per = [\"10.31\", \"\", \"8.00\"]\n",
        "new_per = []\n",
        "\n",
        "for i in per:\n",
        "    try:\n",
        "        v = float(i)\n",
        "    except:\n",
        "        v = 0\n",
        "    new_per.append(v)\n",
        "\n",
        "print(new_per)"
      ],
      "metadata": {
        "id": "PxC5ROnecWtH",
        "colab": {
          "base_uri": "https://localhost:8080/"
        },
        "outputId": "5bab7dd1-3ffd-4f93-e3a6-cf395a9a693f"
      },
      "execution_count": 63,
      "outputs": [
        {
          "output_type": "stream",
          "name": "stdout",
          "text": [
            "[10.31, 0, 8.0]\n"
          ]
        }
      ]
    },
    {
      "cell_type": "code",
      "source": [
        "# 298\n",
        "try:\n",
        "    b = 3 / 0\n",
        "except ZeroDivisionError:\n",
        "    print(\"0으로 나누면 안되요\")"
      ],
      "metadata": {
        "id": "m5pnJnxPcW25",
        "colab": {
          "base_uri": "https://localhost:8080/"
        },
        "outputId": "5ec0ddf9-ff6f-4050-935e-056aca5f92b9"
      },
      "execution_count": 66,
      "outputs": [
        {
          "output_type": "stream",
          "name": "stdout",
          "text": [
            "0으로 나누면 안되요\n"
          ]
        }
      ]
    },
    {
      "cell_type": "code",
      "source": [
        "# 299\n",
        "data = [1, 2, 3]\n",
        "\n",
        "for i in range(5):\n",
        "    try:\n",
        "        print(data[i])\n",
        "    except IndexError as e:\n",
        "        print(e)"
      ],
      "metadata": {
        "id": "0KAJBK4YcXDU",
        "colab": {
          "base_uri": "https://localhost:8080/"
        },
        "outputId": "6fe41586-4547-4f5a-d208-9e80640f94a8"
      },
      "execution_count": 64,
      "outputs": [
        {
          "output_type": "stream",
          "name": "stdout",
          "text": [
            "1\n",
            "2\n",
            "3\n",
            "list index out of range\n",
            "list index out of range\n"
          ]
        }
      ]
    },
    {
      "cell_type": "code",
      "source": [
        "# 300\n",
        "per = [\"10.31\", \"\", \"8.00\"]\n",
        "\n",
        "for i in per:\n",
        "    try:\n",
        "        print(float(i))\n",
        "    except:\n",
        "        print(0)\n",
        "    else:\n",
        "        print(\"clean data\")\n",
        "    finally:\n",
        "        print(\"변환 완료\")"
      ],
      "metadata": {
        "id": "l0ZjTWJTcXPP",
        "colab": {
          "base_uri": "https://localhost:8080/"
        },
        "outputId": "6c5a84cd-1219-45fd-d89b-64274216efda"
      },
      "execution_count": 65,
      "outputs": [
        {
          "output_type": "stream",
          "name": "stdout",
          "text": [
            "10.31\n",
            "clean data\n",
            "변환 완료\n",
            "0\n",
            "변환 완료\n",
            "8.0\n",
            "clean data\n",
            "변환 완료\n"
          ]
        }
      ]
    }
  ]
}
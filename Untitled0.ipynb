{
  "nbformat": 4,
  "nbformat_minor": 0,
  "metadata": {
    "colab": {
      "name": "Untitled0.ipynb",
      "provenance": [],
      "authorship_tag": "ABX9TyMLrfKXqTK2Fh19P4nX92iZ",
      "include_colab_link": true
    },
    "kernelspec": {
      "name": "python3",
      "display_name": "Python 3"
    },
    "language_info": {
      "name": "python"
    }
  },
  "cells": [
    {
      "cell_type": "markdown",
      "metadata": {
        "id": "view-in-github",
        "colab_type": "text"
      },
      "source": [
        "<a href=\"https://colab.research.google.com/github/ahnyosep/ai/blob/main/Untitled0.ipynb\" target=\"_parent\"><img src=\"https://colab.research.google.com/assets/colab-badge.svg\" alt=\"Open In Colab\"/></a>"
      ]
    },
    {
      "cell_type": "code",
      "execution_count": 7,
      "metadata": {
        "colab": {
          "base_uri": "https://localhost:8080/",
          "height": 137
        },
        "id": "Iq1oFRH3xUS6",
        "outputId": "a0fae97a-48a6-42d7-c026-1bbef5d23fba"
      },
      "outputs": [
        {
          "output_type": "error",
          "ename": "IndentationError",
          "evalue": "ignored",
          "traceback": [
            "\u001b[0;36m  File \u001b[0;32m\"<ipython-input-7-75dfc96c78f2>\"\u001b[0;36m, line \u001b[0;32m29\u001b[0m\n\u001b[0;31m    a = float(1)\u001b[0m\n\u001b[0m    ^\u001b[0m\n\u001b[0;31mIndentationError\u001b[0m\u001b[0;31m:\u001b[0m unexpected indent\n"
          ]
        }
      ],
      "source": [
        "  '''\n",
        "  작성자 : 홍길동\n",
        "  작성일 : 2022-01-25\n",
        "  버전 : 0,1\n",
        "  '''\n",
        "  # 보통 삼중 따옴표 주석은 \n",
        "  # 여러줄을 주석으로 \n",
        "  # 사용할 때 사용한다.\n",
        "\n",
        "\n",
        "  # 주석 붙이는 위치\n",
        "\n",
        "  name = 'Alice'\n",
        "  age = 25\n",
        "  address = ''' 우편번호 12345\n",
        "  서울빌딩 501호 '''\n",
        "  boyfriend = None\n",
        "  height = 168.5\n",
        "\n",
        "  print(name)\n",
        "  print(age)\n",
        "  print(address)\n",
        "  print(boyfriend)\n",
        "  print(height)\n",
        "\n",
        "\n",
        " # 실수 float\n",
        "\n",
        " a = float(1)\n",
        " print(a)\n",
        "\n",
        " b = float(True)\n",
        " print(b)\n",
        "\n",
        "c = float( '3.14' )\n",
        " print(c)\n",
        "\n",
        " d = float('100')\n",
        " print(d)\n",
        "\n",
        "\n",
        "\n",
        " "
      ]
    },
    {
      "cell_type": "code",
      "source": [
        "# bool 논리 True or False\n",
        "\n",
        "a = bool(0)\n",
        "print(a)\n",
        "\n",
        "b = bool()\n",
        "print(b)\n",
        "\n",
        "c = bool([])\n",
        "print(c)\n",
        "\n",
        "d = bool([100])\n",
        "print(d)"
      ],
      "metadata": {
        "colab": {
          "base_uri": "https://localhost:8080/"
        },
        "id": "EY1NsWPaawKy",
        "outputId": "e9b0444d-8a41-4af2-9392-c5eaf25bc4be"
      },
      "execution_count": 11,
      "outputs": [
        {
          "output_type": "stream",
          "name": "stdout",
          "text": [
            "False\n",
            "False\n",
            "False\n",
            "True\n"
          ]
        }
      ]
    },
    {
      "cell_type": "code",
      "source": [
        "##################\n",
        "#문자열 String\n",
        "##################\n",
        "\n",
        "a = '대한민국'\n",
        "a = \"대한민국\"\n",
        "\n",
        "b = str(100)\n",
        "print(b)\n",
        "print(type(b))\n",
        "\n",
        "c = str(True)\n",
        "print(c)\n",
        "print(type(c))"
      ],
      "metadata": {
        "colab": {
          "base_uri": "https://localhost:8080/"
        },
        "id": "bRbfMTrPbQ8n",
        "outputId": "5a4f793a-11e1-4691-de49-5a15afe31d95"
      },
      "execution_count": 15,
      "outputs": [
        {
          "output_type": "stream",
          "name": "stdout",
          "text": [
            "100\n",
            "<class 'str'>\n",
            "True\n",
            "<class 'str'>\n"
          ]
        }
      ]
    },
    {
      "cell_type": "code",
      "source": [
        "# 문자열 인덱싱\n",
        "\n",
        "# hello 컴퓨터는 0에서 시작한다.\n",
        "\n",
        "s = 'Hello'\n",
        "print(s[4])\n",
        "\n",
        "print(s[-1])"
      ],
      "metadata": {
        "colab": {
          "base_uri": "https://localhost:8080/"
        },
        "id": "_dSUJwVab9E1",
        "outputId": "e659af96-a87b-4d49-c797-56681cfb0a97"
      },
      "execution_count": 24,
      "outputs": [
        {
          "output_type": "stream",
          "name": "stdout",
          "text": [
            "o\n",
            "o\n"
          ]
        }
      ]
    },
    {
      "cell_type": "code",
      "source": [
        "ss = \"990211-1005432\"\n",
        "print(ss[0:2]) #0 번째부터 2번째 미만까지 ..... [srart:stop:step]\n",
        "print(ss[0:2]) # step 은 생략가능\n",
        "print(ss[0:10:2])"
      ],
      "metadata": {
        "colab": {
          "base_uri": "https://localhost:8080/"
        },
        "id": "ltONIvyzfrS2",
        "outputId": "37b60301-1ddf-4357-c3e4-5a6dca8373a0"
      },
      "execution_count": 26,
      "outputs": [
        {
          "output_type": "stream",
          "name": "stdout",
          "text": [
            "99\n",
            "99\n",
            "901-0\n"
          ]
        }
      ]
    },
    {
      "cell_type": "code",
      "source": [
        "# print\n",
        "\n",
        "print('Hello World')\n",
        "\n",
        "print(\"Hello 'World'\")"
      ],
      "metadata": {
        "colab": {
          "base_uri": "https://localhost:8080/"
        },
        "id": "kmY4bKsYgU6o",
        "outputId": "5dab85d7-7f92-4d72-d977-b9fb6e2f3fb5"
      },
      "execution_count": 28,
      "outputs": [
        {
          "output_type": "stream",
          "name": "stdout",
          "text": [
            "Hello World\n",
            "Hello 'World'\n"
          ]
        }
      ]
    },
    {
      "cell_type": "code",
      "source": [
        "print('Hello \\'World\\'')"
      ],
      "metadata": {
        "colab": {
          "base_uri": "https://localhost:8080/"
        },
        "id": "CaFw9PP0hNtu",
        "outputId": "42829e16-4b2d-449a-dc99-b7cfcec4f79a"
      },
      "execution_count": 31,
      "outputs": [
        {
          "output_type": "stream",
          "name": "stdout",
          "text": [
            "Hello 'World'\n"
          ]
        }
      ]
    },
    {
      "cell_type": "code",
      "source": [
        "# print('재미있는 '.'파이썬' )\n",
        "\n",
        "print('평점', end=':')\n",
        "print('5점')"
      ],
      "metadata": {
        "colab": {
          "base_uri": "https://localhost:8080/"
        },
        "id": "RK9oxoIkjcmt",
        "outputId": "07a363c4-2b61-45b1-d2d4-43be0b202aea"
      },
      "execution_count": 36,
      "outputs": [
        {
          "output_type": "stream",
          "name": "stdout",
          "text": [
            "평점:5점\n"
          ]
        }
      ]
    },
    {
      "cell_type": "code",
      "source": [
        "print('국어','영어','수학')\n",
        "print('국어','영어','수학', sep = '/')\n",
        "print('국어','영어','수학', sep = ', ')\n",
        "print('국어','영어','수학', sep = '\\n')\n",
        "print('\\n국어\\n영어\\n수학')"
      ],
      "metadata": {
        "colab": {
          "base_uri": "https://localhost:8080/"
        },
        "id": "OZhxvhVoomkU",
        "outputId": "9c8e99e1-7daf-4393-9820-8e02b75bc968"
      },
      "execution_count": 42,
      "outputs": [
        {
          "output_type": "stream",
          "name": "stdout",
          "text": [
            "국어 영어 수학\n",
            "국어/영어/수학\n",
            "국어, 영어, 수학\n",
            "국어\n",
            "영어\n",
            "수학\n",
            "\n",
            "국어\n",
            "영어\n",
            "수학\n"
          ]
        }
      ]
    },
    {
      "cell_type": "code",
      "source": [
        "# %연산자\n",
        "print(10)\n",
        "print('%d' % 10) # %d decimal 정수\n",
        "print('%f' % 3.14) # %f float 실수\n",
        "print('%s' % '학생') # %s string 문자열\n",
        "\n",
        "print('%d 을 입력하세요' %10)  \n",
        "print('%s 을 입력하세요' %10)\n",
        "print('원주율은 %f 입니다.' %3.14) \n",
        "print('원주율은 %s 입니다.' %3.14) \n",
        "std = \"대학생\"\n",
        "print('저는 %s 입니다' % std)  \n",
        "print('저는', std, '입니다')"
      ],
      "metadata": {
        "colab": {
          "base_uri": "https://localhost:8080/"
        },
        "id": "uAy-7_EGqNiW",
        "outputId": "f4ab690b-800e-4b26-8536-ad8bead99dbd"
      },
      "execution_count": 51,
      "outputs": [
        {
          "output_type": "stream",
          "name": "stdout",
          "text": [
            "10\n",
            "10\n",
            "3.140000\n",
            "학생\n",
            "10 을 입력하세요\n",
            "10 을 입력하세요\n",
            "원주율은 3.140000 입니다.\n",
            "원주율은 3.14 입니다.\n",
            "저는 대학생 입니다\n",
            "저는 대학생 입니다\n"
          ]
        }
      ]
    },
    {
      "cell_type": "code",
      "source": [
        "print(\"%d\" % 1)\n",
        "print(\"%5d\" % 1)\n",
        "print(\"%-5d\" % 1)\n",
        "print(\"%5d\" % 11)\n",
        "print(\"%-5d\" % 11)"
      ],
      "metadata": {
        "colab": {
          "base_uri": "https://localhost:8080/"
        },
        "id": "ZlX1ibo_tPhD",
        "outputId": "a0d33cf2-0da9-482f-8308-336f7ae9a719"
      },
      "execution_count": 57,
      "outputs": [
        {
          "output_type": "stream",
          "name": "stdout",
          "text": [
            "1\n",
            "    1\n",
            "1    \n",
            "   11\n",
            "11   \n"
          ]
        }
      ]
    },
    {
      "cell_type": "code",
      "source": [
        "print('원주율은 %f 입니다.' % 3.14)\n",
        "print('원주율은 %5.1f 입니다.' % 3.14)\n",
        "print('원주율은 %-5.1f 입니다.' % 3.14)\n",
        "print('원주율은 %.2f 입니다.' % 3.14)"
      ],
      "metadata": {
        "colab": {
          "base_uri": "https://localhost:8080/"
        },
        "id": "hxjNvgxXuBEG",
        "outputId": "863eed04-080b-4d4e-d54c-acc2cbe41a64"
      },
      "execution_count": 62,
      "outputs": [
        {
          "output_type": "stream",
          "name": "stdout",
          "text": [
            "원주율은 3.140000 입니다.\n",
            "원주율은   3.1 입니다.\n",
            "원주율은 3.1   입니다.\n",
            "원주율은 3.14 입니다.\n"
          ]
        }
      ]
    },
    {
      "cell_type": "code",
      "source": [
        "name = 'kai'\n",
        "print('내 이름은 %s입니다.' % name)"
      ],
      "metadata": {
        "colab": {
          "base_uri": "https://localhost:8080/"
        },
        "id": "nNM5samGvMJk",
        "outputId": "04087ffe-61c8-4008-fe4b-4a5056cc2b72"
      },
      "execution_count": 63,
      "outputs": [
        {
          "output_type": "stream",
          "name": "stdout",
          "text": [
            "내 이름은 kai입니다.\n"
          ]
        }
      ]
    },
    {
      "cell_type": "code",
      "source": [
        "height = 185.5\n",
        "print('내 키는 %.1f입니다.' % height)\n",
        "print('내 키는 %s입니다.' % height)\n",
        "print('내 키는 %s 이고 이름은 %s 입니다.' % (height, name))\n",
        "print('내 키는 {} 이고 이름은 {} 입니다.' .format (height, name))"
      ],
      "metadata": {
        "colab": {
          "base_uri": "https://localhost:8080/"
        },
        "id": "01XwQwx7vYao",
        "outputId": "9cc2072c-e850-414f-e21a-9d457820ca3b"
      },
      "execution_count": 72,
      "outputs": [
        {
          "output_type": "stream",
          "name": "stdout",
          "text": [
            "내 키는 185.5입니다.\n",
            "내 키는 185.5입니다.\n",
            "내 키는 185.5 이고 이름은 kai 입니다.\n",
            "내 키는 185.5 이고 이름은 kai 입니다.\n"
          ]
        }
      ]
    },
    {
      "cell_type": "code",
      "source": [
        "# format() \n",
        "\n",
        "zipcode = '06236'\n",
        "print('우편번호 : %s' % zipcode)\n",
        "print('우편번호 : {}' .format(zipcode))"
      ],
      "metadata": {
        "colab": {
          "base_uri": "https://localhost:8080/"
        },
        "id": "TciaQGJBwAI4",
        "outputId": "c2bee8a8-1166-44f2-ee95-422098e0c3aa"
      },
      "execution_count": 69,
      "outputs": [
        {
          "output_type": "stream",
          "name": "stdout",
          "text": [
            "우편번호 : 06236\n",
            "우편번호 : 06236\n"
          ]
        }
      ]
    },
    {
      "cell_type": "code",
      "source": [
        "print('My name is {}. l\\'m {} years old.' .format('James',25))\n",
        "print('My name is {1}. l\\'m {0} years old.' .format(25,'James',))\n",
        "print('My name is {name}. l\\'m {age} years old.' .format(age = 25,name = 'James'))"
      ],
      "metadata": {
        "colab": {
          "base_uri": "https://localhost:8080/"
        },
        "id": "Goh7C2L9x8PK",
        "outputId": "783b6ef1-353c-4986-f902-e3cfe4eeab54"
      },
      "execution_count": 78,
      "outputs": [
        {
          "output_type": "stream",
          "name": "stdout",
          "text": [
            "My name is James. l'm 25 years old.\n",
            "My name is James. l'm 25 years old.\n",
            "My name is James. l'm 25 years old.\n"
          ]
        }
      ]
    },
    {
      "cell_type": "code",
      "source": [
        "# f-strings\n",
        "# 파이썬 3.6이후 부터 사용 가능\n",
        "\n",
        "who = 'you'\n",
        "how = 'happy'\n",
        "print(f'{who} make me {how}')"
      ],
      "metadata": {
        "colab": {
          "base_uri": "https://localhost:8080/"
        },
        "id": "VLWqzpYf28Rp",
        "outputId": "e3ed883c-1c74-4dad-d77c-bafdd85658c8"
      },
      "execution_count": 79,
      "outputs": [
        {
          "output_type": "stream",
          "name": "stdout",
          "text": [
            "you make me happy\n"
          ]
        }
      ]
    },
    {
      "cell_type": "code",
      "source": [
        "age = 25\n",
        "print(f'내년에는 {age+1}입니다.')"
      ],
      "metadata": {
        "colab": {
          "base_uri": "https://localhost:8080/"
        },
        "id": "Hf7h8J5Y3pdl",
        "outputId": "947117ec-6dda-48f3-80c1-9cf1bdd5f1f2"
      },
      "execution_count": 80,
      "outputs": [
        {
          "output_type": "stream",
          "name": "stdout",
          "text": [
            "내년에는 26입니다.\n"
          ]
        }
      ]
    },
    {
      "cell_type": "code",
      "source": [
        "###########\n",
        "# 입력 input( )\n",
        "###########\n",
        "\n",
        "n = input()\n",
        "print(f'당신이 입력한 내용은 {n} 입니다.')\n",
        "print('당신이 입력한 내용은', n ,'입니다')"
      ],
      "metadata": {
        "colab": {
          "base_uri": "https://localhost:8080/"
        },
        "id": "FSk25jq94VoO",
        "outputId": "44d45621-6ba2-4cc1-90c7-a6dc88f916a8"
      },
      "execution_count": 83,
      "outputs": [
        {
          "output_type": "stream",
          "name": "stdout",
          "text": [
            "3\n",
            "당신이 입력한 내용은 3 입니다.\n",
            "당신이 입력한 내용은 3 입니다\n"
          ]
        }
      ]
    },
    {
      "cell_type": "code",
      "source": [
        "n = input('당신의 나이를 입력하세요 ')\n",
        "print(f'당신의 나이는 {n} 입니다.')\n",
        "print('당신의 나이는', n, '입니다')"
      ],
      "metadata": {
        "colab": {
          "base_uri": "https://localhost:8080/"
        },
        "id": "oZkVUOBw5PiH",
        "outputId": "b0d963ef-aa27-44f9-b537-1013c9ec9246"
      },
      "execution_count": 84,
      "outputs": [
        {
          "output_type": "stream",
          "name": "stdout",
          "text": [
            "당신의 나이를 입력하세요 22\n",
            "당신의 나이는 22 입니다.\n",
            "당신의 나이는 22 입니다\n"
          ]
        }
      ]
    },
    {
      "cell_type": "code",
      "source": [
        "n = input('당신의 이름을 입력하세요')\n",
        "k = input('당신의 나이를 입력하세요')\n",
        "print(f'당신의 이름은 {n} 입니다.')\n",
        "print(f'당신의 나이는 {k} 입니다.')\n",
        "\n",
        "print('당신의 이름은{name}이고 나이는 {age}입니다.'.format(name = '안요셉', age = '22'))\n",
        "print('당신의 이름은',name ,'이고 나이는', age ,'입니다.')"
      ],
      "metadata": {
        "colab": {
          "base_uri": "https://localhost:8080/"
        },
        "id": "gObKa5-D5inU",
        "outputId": "351f8e53-320b-4c49-b048-d5a391bb1168"
      },
      "execution_count": 92,
      "outputs": [
        {
          "output_type": "stream",
          "name": "stdout",
          "text": [
            "당신의 이름을 입력하세요안요셉\n",
            "당신의 나이를 입력하세요22\n",
            "당신의 이름은 안요셉 입니다.\n",
            "당신의 나이는 22 입니다.\n",
            "당신의 이름은안요셉이고 나이는 22입니다.\n",
            "당신의 이름은 kai 이고 나이는 25 입니다.\n"
          ]
        }
      ]
    },
    {
      "cell_type": "code",
      "source": [
        "name = input('당신의 이름을 입력하세요')\n",
        "age = int(input('당신의 나이를 입력하세요'))\n",
        "\n",
        "# 1 기본\n",
        "print('당신의 이름은',name ,'이고 나이는', age ,'입니다.')\n",
        "\n",
        "# 2 f-string\n",
        "print(f'당신의 이름은 {name} 이고 나이는{age} 입니다.')\n",
        "\n",
        "# 3 format\n",
        "print('당신의 이름은 {} 이고 나이는 {} 입니다'.format(name, age))\n",
        "\n",
        "# 4 % 연산자\n",
        "print('당신의 이름은 %s 이고 나이는 %d 입니다.' %(name, age))\n",
        "\n",
        "print(name, type(name))\n",
        "print(age, type(age))\n"
      ],
      "metadata": {
        "colab": {
          "base_uri": "https://localhost:8080/"
        },
        "id": "_EqTjnFm7xLf",
        "outputId": "6f037a23-dc96-45e1-8c18-fd1a0ab262fc"
      },
      "execution_count": 97,
      "outputs": [
        {
          "output_type": "stream",
          "name": "stdout",
          "text": [
            "당신의 이름을 입력하세요홍길동\n",
            "당신의 나이를 입력하세요10\n",
            "당신의 이름은 홍길동 이고 나이는 10 입니다.\n",
            "당신의 이름은 홍길동 이고 나이는10 입니다.\n",
            "당신의 이름은 홍길동 이고 나이는 10 입니다\n",
            "당신의 이름은 홍길동 이고 나이는 10 입니다.\n",
            "홍길동 <class 'str'>\n",
            "10 <class 'int'>\n"
          ]
        }
      ]
    },
    {
      "cell_type": "code",
      "source": [
        "\n",
        "date = input('할부 개월 입력') \n",
        "\n",
        "print('당신의 이름은',name ,'이고 나이는', age ,'입니다.')\n",
        "print('개월 동안 매달 내는 금액은 ? 입니다.')"
      ],
      "metadata": {
        "id": "GUkJLVl0-PQ2"
      },
      "execution_count": null,
      "outputs": []
    },
    {
      "cell_type": "code",
      "source": [
        "month = int(input('할부 개월 입력 : '))\n",
        "sum = 50000\n",
        "monthly = round(sum/month,2)\n",
        "\n",
        "# 1 기본\n",
        "print(month,'개월 동안 매달 내는 금액은',monthly ,'입니다.')\n",
        "# 2 f-string\n",
        "print(f'{month}개월 동안 매달 내는 금액은 {monthly} 입니다.')\n",
        "# 3 format()\n",
        "print('{}개월 동안 매달 내는 금액은 {} 입니다.'.format(month, monthly))\n",
        "# 4 % 연산자\n",
        "print('%d개월 동안 매달 내는 금액은 %s 입니다.' % (month, monthly))\n"
      ],
      "metadata": {
        "colab": {
          "base_uri": "https://localhost:8080/"
        },
        "id": "K2x5bqLZDDhD",
        "outputId": "e2fd6ded-ecb7-4613-f353-77c60e75854b"
      },
      "execution_count": 1,
      "outputs": [
        {
          "output_type": "stream",
          "name": "stdout",
          "text": [
            "할부 개월 입력 : 3\n",
            "3 개월 동안 매달 내는 금액은 16666.67 입니다.\n",
            "3개월 동안 매달 내는 금액은 16666.67 입니다.\n",
            "3개월 동안 매달 내는 금액은 16666.67 입니다.\n",
            "3개월 동안 매달 내는 금액은 16666.67 입니다.\n"
          ]
        }
      ]
    }
  ]
}
{
  "nbformat": 4,
  "nbformat_minor": 0,
  "metadata": {
    "colab": {
      "name": "02HW20220126안요셉22.ipynb",
      "provenance": [],
      "authorship_tag": "ABX9TyPa/5C1i5HU1YT/lb7Xo1hC",
      "include_colab_link": true
    },
    "kernelspec": {
      "name": "python3",
      "display_name": "Python 3"
    },
    "language_info": {
      "name": "python"
    }
  },
  "cells": [
    {
      "cell_type": "markdown",
      "metadata": {
        "id": "view-in-github",
        "colab_type": "text"
      },
      "source": [
        "<a href=\"https://colab.research.google.com/github/ahnyosep/ai/blob/main/02HW20220126%EC%95%88%EC%9A%94%EC%85%8922.ipynb\" target=\"_parent\"><img src=\"https://colab.research.google.com/assets/colab-badge.svg\" alt=\"Open In Colab\"/></a>"
      ]
    },
    {
      "cell_type": "code",
      "execution_count": 29,
      "metadata": {
        "id": "R28KRGFDa833"
      },
      "outputs": [],
      "source": [
        "# 051\n",
        "movie_rank = [\"닥터 스트레인지\", \"스플릿\", \"럭키\"]"
      ]
    },
    {
      "cell_type": "code",
      "source": [
        "# 052\n",
        "movie_rank = [\"닥터 스트레인지\", \"스플릿\", \"럭키\"]\n",
        "movie_rank.append(\"배트맨\")\n",
        "print(movie_rank)"
      ],
      "metadata": {
        "colab": {
          "base_uri": "https://localhost:8080/"
        },
        "id": "JJ9820J0duEP",
        "outputId": "1d28548d-13a8-4815-e656-03c55d28ea50"
      },
      "execution_count": 6,
      "outputs": [
        {
          "output_type": "stream",
          "name": "stdout",
          "text": [
            "['닥터 스트레인지', '스플릿', '럭키', '배트맨']\n"
          ]
        }
      ]
    },
    {
      "cell_type": "code",
      "source": [
        "# 053\n",
        "movie_rank = ['닥터 스트레인지', '스플릿', '럭키', '배트맨']\n",
        "movie_rank.insert(1, \"슈퍼맨\")\n",
        "print(movie_rank)"
      ],
      "metadata": {
        "colab": {
          "base_uri": "https://localhost:8080/"
        },
        "id": "IWe6oo5LdxeW",
        "outputId": "e9fed5fb-dc70-4b9b-b7e6-02c8b125f8e9"
      },
      "execution_count": 7,
      "outputs": [
        {
          "output_type": "stream",
          "name": "stdout",
          "text": [
            "['닥터 스트레인지', '슈퍼맨', '스플릿', '럭키', '배트맨']\n"
          ]
        }
      ]
    },
    {
      "cell_type": "code",
      "source": [
        "# 054\n",
        "movie_rank = ['닥터 스트레인지', '슈퍼맨', '스플릿', '럭키', '배트맨']\n",
        "del movie_rank[3]\n",
        "print(movie_rank)"
      ],
      "metadata": {
        "colab": {
          "base_uri": "https://localhost:8080/"
        },
        "id": "pTmaJx8Sd1Rn",
        "outputId": "d064326a-f8b5-4a75-dec0-26c4b35cd044"
      },
      "execution_count": 8,
      "outputs": [
        {
          "output_type": "stream",
          "name": "stdout",
          "text": [
            "['닥터 스트레인지', '슈퍼맨', '스플릿', '배트맨']\n"
          ]
        }
      ]
    },
    {
      "cell_type": "code",
      "source": [
        "# 055\n",
        "movie_rank = ['닥터 스트레인지', '슈퍼맨', '스플릿', '배트맨']\n",
        "del movie_rank[2]\n",
        "del movie_rank[2]\n",
        "print(movie_rank)"
      ],
      "metadata": {
        "colab": {
          "base_uri": "https://localhost:8080/"
        },
        "id": "I5440SHHfIye",
        "outputId": "48511971-9380-41ad-9e23-695da516841a"
      },
      "execution_count": 9,
      "outputs": [
        {
          "output_type": "stream",
          "name": "stdout",
          "text": [
            "['닥터 스트레인지', '슈퍼맨']\n"
          ]
        }
      ]
    },
    {
      "cell_type": "code",
      "source": [
        "# 056\n",
        "lang1 = [\"C\", \"C++\", \"JAVA\"]\n",
        "lang2 = [\"Python\", \"Go\", \"C#\"]\n",
        "langs = lang1 + lang2\n",
        "print(langs)"
      ],
      "metadata": {
        "colab": {
          "base_uri": "https://localhost:8080/"
        },
        "id": "Y-TOfXq3fMhn",
        "outputId": "5dc5517a-f2c9-48e7-c3e6-d9f7768ab4cd"
      },
      "execution_count": 10,
      "outputs": [
        {
          "output_type": "stream",
          "name": "stdout",
          "text": [
            "['C', 'C++', 'JAVA', 'Python', 'Go', 'C#']\n"
          ]
        }
      ]
    },
    {
      "cell_type": "code",
      "source": [
        "# 057\n",
        "nums = [1, 2, 3, 4, 5, 6, 7]\n",
        "print(\"max: \", max(nums))\n",
        "print(\"min: \", min(nums))"
      ],
      "metadata": {
        "colab": {
          "base_uri": "https://localhost:8080/"
        },
        "id": "a6il7mvIfSHF",
        "outputId": "d5c56e32-bd4e-4678-d3f1-9b29a147672b"
      },
      "execution_count": 11,
      "outputs": [
        {
          "output_type": "stream",
          "name": "stdout",
          "text": [
            "max:  7\n",
            "min:  1\n"
          ]
        }
      ]
    },
    {
      "cell_type": "code",
      "source": [
        "# 058\n",
        "nums = [1, 2, 3, 4, 5]\n",
        "print(sum(nums))"
      ],
      "metadata": {
        "colab": {
          "base_uri": "https://localhost:8080/"
        },
        "id": "NRf26GoSfWDw",
        "outputId": "ff806de7-5500-4c69-f633-323ce4214350"
      },
      "execution_count": 12,
      "outputs": [
        {
          "output_type": "stream",
          "name": "stdout",
          "text": [
            "15\n"
          ]
        }
      ]
    },
    {
      "cell_type": "code",
      "source": [
        "# 059\n",
        "cook = [\"피자\", \"김밥\", \"만두\", \"양념치킨\", \"족발\", \"피자\", \"김치만두\", \"쫄면\", \"소시지\", \"라면\", \"팥빙수\", \"김치전\"]\n",
        "print(len(cook))"
      ],
      "metadata": {
        "colab": {
          "base_uri": "https://localhost:8080/"
        },
        "id": "8jPWW-7FfZcP",
        "outputId": "35d79f2a-87b1-42cc-8ab2-3b60f790d243"
      },
      "execution_count": 13,
      "outputs": [
        {
          "output_type": "stream",
          "name": "stdout",
          "text": [
            "12\n"
          ]
        }
      ]
    },
    {
      "cell_type": "code",
      "source": [
        "# 060\n",
        "nums = [1, 2, 3, 4, 5]\n",
        "average = sum(nums) / len(nums)\n",
        "print(average)"
      ],
      "metadata": {
        "colab": {
          "base_uri": "https://localhost:8080/"
        },
        "id": "mN-62vNpfk3J",
        "outputId": "042d05d9-4eba-45d3-ab58-4f03d7692395"
      },
      "execution_count": 14,
      "outputs": [
        {
          "output_type": "stream",
          "name": "stdout",
          "text": [
            "3.0\n"
          ]
        }
      ]
    },
    {
      "cell_type": "code",
      "source": [
        "# 121\n",
        "user = input(\"\")\n",
        "if user.islower():\n",
        "    print(user.upper())\n",
        "else:\n",
        "    print(user.lower())"
      ],
      "metadata": {
        "colab": {
          "base_uri": "https://localhost:8080/"
        },
        "id": "kyqn0x_ufxMb",
        "outputId": "544de0ab-8eb2-4c5b-abdc-13b31b5cff30"
      },
      "execution_count": 15,
      "outputs": [
        {
          "output_type": "stream",
          "name": "stdout",
          "text": [
            "a\n",
            "A\n"
          ]
        }
      ]
    },
    {
      "cell_type": "code",
      "source": [
        "# 122\n",
        "score = input(\"score: \")\n",
        "score = int(score)\n",
        "if 81 <= score <= 100:\n",
        "    print(\"grade is A\")\n",
        "elif 61 <= score <= 80:\n",
        "    print(\"grade is B\")\n",
        "elif 41 <= score <= 60:\n",
        "    print(\"grade is C\")\n",
        "elif 21 <= score <= 40:\n",
        "    print(\"grade is D\")\n",
        "else:\n",
        "    print(\"grade is E\")"
      ],
      "metadata": {
        "colab": {
          "base_uri": "https://localhost:8080/"
        },
        "id": "VC3U56Msf2xb",
        "outputId": "62191fad-c88b-4572-cbdb-5487184e3a04"
      },
      "execution_count": 16,
      "outputs": [
        {
          "output_type": "stream",
          "name": "stdout",
          "text": [
            "score: 83\n",
            "grade is A\n"
          ]
        }
      ]
    },
    {
      "cell_type": "code",
      "source": [
        "# 123\n",
        "환율 = {\"달러\": 1167, \n",
        "        \"엔\": 1.096, \n",
        "        \"유로\": 1268, \n",
        "        \"위안\": 171}\n",
        "user = input(\"입력: \")\n",
        "num, currency = user.split()\n",
        "print(float(num) * 환율[currency], \"원\")"
      ],
      "metadata": {
        "colab": {
          "base_uri": "https://localhost:8080/"
        },
        "id": "XgZE7px-f7cs",
        "outputId": "6f7587f2-44e3-4f79-f075-92bd6a57c5bf"
      },
      "execution_count": 19,
      "outputs": [
        {
          "output_type": "stream",
          "name": "stdout",
          "text": [
            "입력: 100 달러\n",
            "116700.0 원\n"
          ]
        }
      ]
    },
    {
      "cell_type": "code",
      "source": [
        "# 124\n",
        "num1 = input(\"input number1: \")\n",
        "num2 = input(\"input number2: \")\n",
        "num3 = input(\"input number3: \")\n",
        "num1 = int(num1)\n",
        "num2 = int(num2)\n",
        "num3 = int(num3)\n",
        "\n",
        "if num1 >= num2 and num1 >= num3:\n",
        "    print(num1)\n",
        "elif num2 >= num1 and num2 >= num3:\n",
        "    print(num2)\n",
        "else:\n",
        "    print(num3)"
      ],
      "metadata": {
        "colab": {
          "base_uri": "https://localhost:8080/"
        },
        "id": "Yk_M7cX-gQDK",
        "outputId": "f21209dd-f639-4fe6-da4b-3acbf8170ec4"
      },
      "execution_count": 20,
      "outputs": [
        {
          "output_type": "stream",
          "name": "stdout",
          "text": [
            "input number1: 10\n",
            "input number2: 9\n",
            "input number3: 20\n",
            "20\n"
          ]
        }
      ]
    },
    {
      "cell_type": "code",
      "source": [
        "# 125\n",
        "number = input(\"휴대전화 번호 입력: \")\n",
        "num = number.split(\"-\")[0]\n",
        "if num == \"011\":\n",
        "    com = \"SKT\"\n",
        "elif num == \"016\":\n",
        "    com = \"KT\"\n",
        "elif num == \"019\":\n",
        "    com = \"LGU\"\n",
        "else:\n",
        "    com = \"알수없음\"\n",
        "print(f\"당신은 {com} 사용자입니다.\")"
      ],
      "metadata": {
        "colab": {
          "base_uri": "https://localhost:8080/"
        },
        "id": "G99CmIB5gW_T",
        "outputId": "1dbecb87-d838-417c-ba94-9a09252e05ae"
      },
      "execution_count": 21,
      "outputs": [
        {
          "output_type": "stream",
          "name": "stdout",
          "text": [
            "휴대전화 번호 입력: 011-345-1922\n",
            "당신은 SKT 사용자입니다.\n"
          ]
        }
      ]
    },
    {
      "cell_type": "code",
      "source": [
        "# 126\n",
        "우편번호 = input(\"우편번호: \")\n",
        "우편번호 = 우편번호[:3]\n",
        "if 우편번호 in [\"010\", \"011\", \"012\"]:\n",
        "    print(\"강북구\")\n",
        "elif 우편번호 in [\"014\", \"015\", \"016\"]:\n",
        "    print(\"도봉구\")\n",
        "else:\n",
        "    print(\"노원구\")"
      ],
      "metadata": {
        "colab": {
          "base_uri": "https://localhost:8080/"
        },
        "id": "NAaAy6nZgfR5",
        "outputId": "e766ebb9-dbfb-4f7f-b304-2e716f795dd8"
      },
      "execution_count": 22,
      "outputs": [
        {
          "output_type": "stream",
          "name": "stdout",
          "text": [
            "우편번호: 01400\n",
            "도봉구\n"
          ]
        }
      ]
    },
    {
      "cell_type": "code",
      "source": [
        "# 127\n",
        "주민번호 = input(\"주민등록번호: \")\n",
        "주민번호 = 주민번호.split(\"-\")[1]\n",
        "if 주민번호[0] == \"1\" or 주민번호[0] == \"3\":\n",
        "    print(\"남자\")\n",
        "else:\n",
        "    print(\"여자\")"
      ],
      "metadata": {
        "colab": {
          "base_uri": "https://localhost:8080/"
        },
        "id": "Jp8ywp12gkKA",
        "outputId": "c7cdf852-2b0f-45bb-c010-eaeb90b7e45d"
      },
      "execution_count": 23,
      "outputs": [
        {
          "output_type": "stream",
          "name": "stdout",
          "text": [
            "주민등록번호: 821010-1635210\n",
            "남자\n"
          ]
        }
      ]
    },
    {
      "cell_type": "code",
      "source": [
        "# 128\n",
        "주민번호 = input(\"주민등록번호: \")\n",
        "뒷자리 = 주민번호.split(\"-\")[1]\n",
        "if 0 <= int(뒷자리[1:3]) <= 8:\n",
        "    print(\"서울입니다.\")\n",
        "else:\n",
        "    print(\"서울이 아닙니다.\")"
      ],
      "metadata": {
        "colab": {
          "base_uri": "https://localhost:8080/"
        },
        "id": "X30Kx95igsUx",
        "outputId": "a38895a3-5372-4537-f2d4-bbe724e53364"
      },
      "execution_count": 24,
      "outputs": [
        {
          "output_type": "stream",
          "name": "stdout",
          "text": [
            "주민등록번호: 821010-1635210\n",
            "서울이 아닙니다.\n"
          ]
        }
      ]
    },
    {
      "cell_type": "code",
      "source": [
        "# 129\n",
        "num = input(\"주민등록번호: \")\n",
        "계산1 = int(num[0]) * 2 + int(num[1]) * 3 + int(num[2]) * 4 + int(num[3]) * 5 + int(num[4]) * 6 + \\\n",
        "        int(num[5]) * 7 + int(num[7]) * 8 + int(num[8]) * 9 + int(num[9]) * 2 + int(num[10])* 3 + \\\n",
        "        int(num[11])* 4 + int(num[12]) * 5\n",
        "계산2 = 11 - (계산1 % 11)\n",
        "계산3 = str(계산2)\n",
        "\n",
        "if num[-1] == 계산3[-1]:\n",
        "    print(\"유효한 주민등록번호입니다.\")\n",
        "else:\n",
        "    print(\"유효하지 않은 주민등록번호입니다.\")"
      ],
      "metadata": {
        "colab": {
          "base_uri": "https://localhost:8080/"
        },
        "id": "Cpsvc4xIg0cg",
        "outputId": "d6fccb0a-4137-4e02-fe77-ee33cfa16767"
      },
      "execution_count": 25,
      "outputs": [
        {
          "output_type": "stream",
          "name": "stdout",
          "text": [
            "주민등록번호: 821010-1635210\n",
            "유효하지 않은 주민등록번호입니다.\n"
          ]
        }
      ]
    },
    {
      "cell_type": "code",
      "source": [
        "# 130\n",
        "import requests\n",
        "btc = requests.get(\"https://api.bithumb.com/public/ticker/\").json()['data']\n",
        "\n",
        "변동폭 = float(btc['max_price']) - float(btc['min_price'])\n",
        "시가 = float(btc['opening_price'])\n",
        "최고가 = float(btc['max_price'])\n",
        "\n",
        "if (시가+변동폭) > 최고가:\n",
        "    print(\"상승장\")\n",
        "else:\n",
        "    print(\"하락장\")"
      ],
      "metadata": {
        "colab": {
          "base_uri": "https://localhost:8080/"
        },
        "id": "ddHYrBkJg9Qu",
        "outputId": "b1ac7661-446b-48f4-e58b-97e8efbf9b95"
      },
      "execution_count": 26,
      "outputs": [
        {
          "output_type": "stream",
          "name": "stdout",
          "text": [
            "상승장\n"
          ]
        }
      ]
    }
  ]
}